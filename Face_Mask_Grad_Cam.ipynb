{
  "nbformat": 4,
  "nbformat_minor": 0,
  "metadata": {
    "colab": {
      "name": "Face_Mask_Grad_Cam.ipynb",
      "provenance": [],
      "collapsed_sections": []
    },
    "kernelspec": {
      "name": "python3",
      "display_name": "Python 3"
    },
    "language_info": {
      "name": "python"
    }
  },
  "cells": [
    {
      "cell_type": "code",
      "source": [
        "from google.colab import drive\n",
        "drive.mount('/content/gdrive')"
      ],
      "metadata": {
        "colab": {
          "base_uri": "https://localhost:8080/"
        },
        "id": "s-9Hnbejq4gl",
        "outputId": "dd5c9a74-11af-4888-e983-8103fc11ecb3"
      },
      "execution_count": null,
      "outputs": [
        {
          "output_type": "stream",
          "name": "stdout",
          "text": [
            "Mounted at /content/gdrive\n"
          ]
        }
      ]
    },
    {
      "cell_type": "markdown",
      "source": [
        " **Liberary**"
      ],
      "metadata": {
        "id": "ZfTiEQJot0Sy"
      }
    },
    {
      "cell_type": "code",
      "source": [
        "import os\n",
        "import random\n",
        "import shutil\n",
        "import tensorflow as tf\n",
        "from tensorflow import keras\n",
        "from tensorflow.keras.preprocessing.image import ImageDataGenerator\n",
        "from keras.layers import * \n",
        "from keras.models import * \n",
        "from tensorflow.keras.callbacks import TensorBoard, ModelCheckpoint\n",
        "from tensorflow.keras import optimizers\n",
        "from keras.preprocessing import image \n",
        "from sklearn.metrics import precision_score,recall_score,classification_report\n",
        "from sklearn.utils import shuffle\n",
        "import numpy as np\n",
        "from imutils import paths\n",
        "import matplotlib.pyplot as plt\n",
        "import matplotlib.image  as mpimg\n",
        "from tensorflow.keras.callbacks import EarlyStopping\n",
        "from tensorflow.keras.preprocessing.image import img_to_array\n",
        "from tensorflow.keras.preprocessing.image import load_img\n",
        "from tensorflow.keras.applications import imagenet_utils\n",
        "from tensorflow.keras.models import load_model\n",
        "from tensorflow.keras.models import Model\n",
        "import cv2"
      ],
      "metadata": {
        "id": "HjkVbl9_tzhj"
      },
      "execution_count": null,
      "outputs": []
    },
    {
      "cell_type": "markdown",
      "source": [
        "**Imprt model**"
      ],
      "metadata": {
        "id": "hpgvqOX_uQ1D"
      }
    },
    {
      "cell_type": "code",
      "source": [
        "model = tf.keras.models.load_model('/content/gdrive/MyDrive/FaceMask/FM_MobileNetV2.h5')\n"
      ],
      "metadata": {
        "id": "yBqGSeG8uNW4"
      },
      "execution_count": null,
      "outputs": []
    },
    {
      "cell_type": "markdown",
      "source": [
        "**Grad** **Cam** "
      ],
      "metadata": {
        "id": "EXi-Q-TfpJ8P"
      }
    },
    {
      "cell_type": "code",
      "source": [
        "class GradCAM:\n",
        "    def __init__(self, model, classIdx, layerName=None):\n",
        "        # store the model, the class index used to measure the class\n",
        "        # activation map, and the layer to be used when visualizing\n",
        "        # the class activation map\n",
        "        self.model = model\n",
        "        self.classIdx = classIdx\n",
        "        self.layerName = layerName\n",
        "        # if the layer name is None, attempt to automatically find\n",
        "        # the target output layer\n",
        "        if self.layerName is None:\n",
        "            self.layerName = self.find_target_layer()\n",
        "\n",
        "    def find_target_layer(self):\n",
        "        # attempt to find the final convolutional layer in the network\n",
        "        # by looping over the layers of the network in reverse order\n",
        "        for layer in reversed(self.model.layers):\n",
        "            # check to see if the layer has a 4D output\n",
        "            if len(layer.output_shape) == 4:\n",
        "                return layer.name\n",
        "        # otherwise, we could not find a 4D layer so the GradCAM\n",
        "        # algorithm cannot be applied\n",
        "        raise ValueError(\"Could not find 4D layer. Cannot apply GradCAM.\")\n",
        "\n",
        "\n",
        "    def compute_heatmap(self, image, eps=1e-8):\n",
        "        # construct our gradient model by supplying (1) the inputs\n",
        "        # to our pre-trained model, (2) the output of the (presumably)\n",
        "        # final 4D layer in the network, and (3) the output of the\n",
        "        # softmax activations from the model\n",
        "        gradModel = Model(\n",
        "            inputs=[self.model.inputs],\n",
        "            outputs=[self.model.get_layer(self.layerName).output, self.model.output])\n",
        "\n",
        "        # record operations for automatic differentiation\n",
        "        with tf.GradientTape() as tape:\n",
        "            # cast the image tensor to a float-32 data type, pass the\n",
        "            # image through the gradient model, and grab the loss\n",
        "            # associated with the specific class index\n",
        "            inputs = tf.cast(image, tf.float32)\n",
        "            (convOutputs, predictions) = gradModel(inputs)\n",
        "            \n",
        "            loss = predictions[:, tf.argmax(predictions[0])]\n",
        "    \n",
        "        # use automatic differentiation to compute the gradients\n",
        "        grads = tape.gradient(loss, convOutputs)\n",
        "\n",
        "        # compute the guided gradients\n",
        "        castConvOutputs = tf.cast(convOutputs > 0, \"float32\")\n",
        "        castGrads = tf.cast(grads > 0, \"float32\")\n",
        "        guidedGrads = castConvOutputs * castGrads * grads\n",
        "        # the convolution and guided gradients have a batch dimension\n",
        "        # (which we don't need) so let's grab the volume itself and\n",
        "        # discard the batch\n",
        "        convOutputs = convOutputs[0]\n",
        "        guidedGrads = guidedGrads[0]\n",
        "\n",
        "        # compute the average of the gradient values, and using them\n",
        "        # as weights, compute the ponderation of the filters with\n",
        "        # respect to the weights\n",
        "        weights = tf.reduce_mean(guidedGrads, axis=(0, 1))\n",
        "        cam = tf.reduce_sum(tf.multiply(weights, convOutputs), axis=-1)\n",
        "\n",
        "        # grab the spatial dimensions of the input image and resize\n",
        "        # the output class activation map to match the input image\n",
        "        # dimensions\n",
        "        (w, h) = (image.shape[2], image.shape[1])\n",
        "        heatmap = cv2.resize(cam.numpy(), (w, h))\n",
        "        # normalize the heatmap such that all values lie in the range\n",
        "        # [0, 1], scale the resulting values to the range [0, 255],\n",
        "        # and then convert to an unsigned 8-bit integer\n",
        "        numer = heatmap - np.min(heatmap)\n",
        "        denom = (heatmap.max() - heatmap.min()) + eps\n",
        "        heatmap = numer / denom\n",
        "        heatmap = (heatmap * 255).astype(\"uint8\")\n",
        "        # return the resulting heatmap to the calling function\n",
        "        return heatmap\n",
        "\n",
        "    def overlay_heatmap(self, heatmap, image, alpha=0.5,\n",
        "                        colormap=cv2.COLORMAP_VIRIDIS):\n",
        "        # apply the supplied color map to the heatmap and then\n",
        "        # overlay the heatmap on the input image\n",
        "        heatmap = cv2.applyColorMap(heatmap, colormap)\n",
        "        output = cv2.addWeighted(image, alpha, heatmap, 1 - alpha, 0)\n",
        "        # return a 2-tuple of the color mapped heatmap and the output,\n",
        "        # overlaid image\n",
        "        return (heatmap, output)"
      ],
      "metadata": {
        "id": "ER3eQknKt2f4"
      },
      "execution_count": null,
      "outputs": []
    },
    {
      "cell_type": "markdown",
      "source": [
        "**Prediction**"
      ],
      "metadata": {
        "id": "Nig2X91opaIE"
      }
    },
    {
      "cell_type": "code",
      "source": [
        " \n",
        "img=image.load_img('/content/gdrive/MyDrive/FaceMask/13.png')\n",
        "img = image.img_to_array(img)\n",
        "img = np.expand_dims(img, axis=0)\n",
        "preds = model.predict(img) \n",
        "i = np.argmax(preds[0])\n",
        " "
      ],
      "metadata": {
        "id": "xsY-xByhu1Zo"
      },
      "execution_count": null,
      "outputs": []
    },
    {
      "cell_type": "markdown",
      "source": [
        "**Display layers**"
      ],
      "metadata": {
        "id": "sEBR9gt6fcVW"
      }
    },
    {
      "cell_type": "code",
      "source": [
        "for idx in range(len(model.layers)):\n",
        "  print(model.get_layer(index = idx).name)\n",
        "\n",
        "# we picked `block5c_project_con` layer "
      ],
      "metadata": {
        "colab": {
          "base_uri": "https://localhost:8080/"
        },
        "id": "MPOIO3Zh89o3",
        "outputId": "0f6d4fb0-2d2b-49be-dc06-ee9d71cab409"
      },
      "execution_count": null,
      "outputs": [
        {
          "output_type": "stream",
          "name": "stdout",
          "text": [
            "input_1\n",
            "Conv1\n",
            "bn_Conv1\n",
            "Conv1_relu\n",
            "expanded_conv_depthwise\n",
            "expanded_conv_depthwise_BN\n",
            "expanded_conv_depthwise_relu\n",
            "expanded_conv_project\n",
            "expanded_conv_project_BN\n",
            "block_1_expand\n",
            "block_1_expand_BN\n",
            "block_1_expand_relu\n",
            "block_1_pad\n",
            "block_1_depthwise\n",
            "block_1_depthwise_BN\n",
            "block_1_depthwise_relu\n",
            "block_1_project\n",
            "block_1_project_BN\n",
            "block_2_expand\n",
            "block_2_expand_BN\n",
            "block_2_expand_relu\n",
            "block_2_depthwise\n",
            "block_2_depthwise_BN\n",
            "block_2_depthwise_relu\n",
            "block_2_project\n",
            "block_2_project_BN\n",
            "block_2_add\n",
            "block_3_expand\n",
            "block_3_expand_BN\n",
            "block_3_expand_relu\n",
            "block_3_pad\n",
            "block_3_depthwise\n",
            "block_3_depthwise_BN\n",
            "block_3_depthwise_relu\n",
            "block_3_project\n",
            "block_3_project_BN\n",
            "block_4_expand\n",
            "block_4_expand_BN\n",
            "block_4_expand_relu\n",
            "block_4_depthwise\n",
            "block_4_depthwise_BN\n",
            "block_4_depthwise_relu\n",
            "block_4_project\n",
            "block_4_project_BN\n",
            "block_4_add\n",
            "block_5_expand\n",
            "block_5_expand_BN\n",
            "block_5_expand_relu\n",
            "block_5_depthwise\n",
            "block_5_depthwise_BN\n",
            "block_5_depthwise_relu\n",
            "block_5_project\n",
            "block_5_project_BN\n",
            "block_5_add\n",
            "block_6_expand\n",
            "block_6_expand_BN\n",
            "block_6_expand_relu\n",
            "block_6_pad\n",
            "block_6_depthwise\n",
            "block_6_depthwise_BN\n",
            "block_6_depthwise_relu\n",
            "block_6_project\n",
            "block_6_project_BN\n",
            "block_7_expand\n",
            "block_7_expand_BN\n",
            "block_7_expand_relu\n",
            "block_7_depthwise\n",
            "block_7_depthwise_BN\n",
            "block_7_depthwise_relu\n",
            "block_7_project\n",
            "block_7_project_BN\n",
            "block_7_add\n",
            "block_8_expand\n",
            "block_8_expand_BN\n",
            "block_8_expand_relu\n",
            "block_8_depthwise\n",
            "block_8_depthwise_BN\n",
            "block_8_depthwise_relu\n",
            "block_8_project\n",
            "block_8_project_BN\n",
            "block_8_add\n",
            "block_9_expand\n",
            "block_9_expand_BN\n",
            "block_9_expand_relu\n",
            "block_9_depthwise\n",
            "block_9_depthwise_BN\n",
            "block_9_depthwise_relu\n",
            "block_9_project\n",
            "block_9_project_BN\n",
            "block_9_add\n",
            "block_10_expand\n",
            "block_10_expand_BN\n",
            "block_10_expand_relu\n",
            "block_10_depthwise\n",
            "block_10_depthwise_BN\n",
            "block_10_depthwise_relu\n",
            "block_10_project\n",
            "block_10_project_BN\n",
            "block_11_expand\n",
            "block_11_expand_BN\n",
            "block_11_expand_relu\n",
            "block_11_depthwise\n",
            "block_11_depthwise_BN\n",
            "block_11_depthwise_relu\n",
            "block_11_project\n",
            "block_11_project_BN\n",
            "block_11_add\n",
            "block_12_expand\n",
            "block_12_expand_BN\n",
            "block_12_expand_relu\n",
            "block_12_depthwise\n",
            "block_12_depthwise_BN\n",
            "block_12_depthwise_relu\n",
            "block_12_project\n",
            "block_12_project_BN\n",
            "block_12_add\n",
            "block_13_expand\n",
            "block_13_expand_BN\n",
            "block_13_expand_relu\n",
            "block_13_pad\n",
            "block_13_depthwise\n",
            "block_13_depthwise_BN\n",
            "block_13_depthwise_relu\n",
            "block_13_project\n",
            "block_13_project_BN\n",
            "block_14_expand\n",
            "block_14_expand_BN\n",
            "block_14_expand_relu\n",
            "block_14_depthwise\n",
            "block_14_depthwise_BN\n",
            "block_14_depthwise_relu\n",
            "block_14_project\n",
            "block_14_project_BN\n",
            "block_14_add\n",
            "block_15_expand\n",
            "block_15_expand_BN\n",
            "block_15_expand_relu\n",
            "block_15_depthwise\n",
            "block_15_depthwise_BN\n",
            "block_15_depthwise_relu\n",
            "block_15_project\n",
            "block_15_project_BN\n",
            "block_15_add\n",
            "block_16_expand\n",
            "block_16_expand_BN\n",
            "block_16_expand_relu\n",
            "block_16_depthwise\n",
            "block_16_depthwise_BN\n",
            "block_16_depthwise_relu\n",
            "block_16_project\n",
            "block_16_project_BN\n",
            "Conv_1\n",
            "Conv_1_bn\n",
            "out_relu\n",
            "average_pooling2d\n",
            "flatten\n",
            "dense\n",
            "dropout\n",
            "dense_1\n"
          ]
        }
      ]
    },
    {
      "cell_type": "code",
      "source": [
        "icam = GradCAM(model, i, 'Conv_1_bn')\n",
        "heatmap = icam.compute_heatmap(img)\n",
        "heatmap = cv2.resize(heatmap, (244, 244))\n",
        "\n",
        "image = cv2.imread('/content/gdrive/MyDrive/FaceMask/13.png')\n",
        "image = cv2.resize(image, (244, 244))\n",
        "print(heatmap.shape, image.shape)\n",
        "\n",
        "(heatmap, output) = icam.overlay_heatmap(heatmap, image, alpha=0.5)"
      ],
      "metadata": {
        "colab": {
          "base_uri": "https://localhost:8080/"
        },
        "id": "z0_GUW-o9Bqc",
        "outputId": "f01dec20-9b68-406a-e7f7-1c098a98431c"
      },
      "execution_count": null,
      "outputs": [
        {
          "output_type": "stream",
          "name": "stdout",
          "text": [
            "(244, 244) (244, 244, 3)\n"
          ]
        }
      ]
    },
    {
      "cell_type": "markdown",
      "source": [
        "**Visualization**"
      ],
      "metadata": {
        "id": "tQcsiDQrg9fI"
      }
    },
    {
      "cell_type": "code",
      "source": [
        "fig, ax = plt.subplots(1,3)\n",
        "\n",
        "\n",
        "ax[0].imshow(heatmap)\n",
        "ax[1].imshow(output)\n",
        "ax[2].imshow(image )"
      ],
      "metadata": {
        "colab": {
          "base_uri": "https://localhost:8080/",
          "height": 167
        },
        "id": "dfwEEaQofa53",
        "outputId": "f1008267-04f4-4aaf-f128-363869fe7a84"
      },
      "execution_count": null,
      "outputs": [
        {
          "output_type": "execute_result",
          "data": {
            "text/plain": [
              "<matplotlib.image.AxesImage at 0x7fa8fd139190>"
            ]
          },
          "metadata": {},
          "execution_count": 17
        },
        {
          "output_type": "display_data",
          "data": {
            "image/png": "[encoded data removed]",
            "text/plain": [
              "<Figure size 432x288 with 3 Axes>"
            ]
          },
          "metadata": {
            "needs_background": "light"
          }
        }
      ]
    }
  ]
}