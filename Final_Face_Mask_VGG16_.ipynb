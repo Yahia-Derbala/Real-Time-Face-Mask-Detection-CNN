{
  "cells": [
    {
      "cell_type": "code",
      "execution_count": null,
      "metadata": {
        "colab": {
          "base_uri": "https://localhost:8080/"
        },
        "id": "8o1kM2FuIcFu",
        "outputId": "579778c4-f9e1-4715-aeeb-0c90aba519ea"
      },
      "outputs": [
        {
          "output_type": "stream",
          "name": "stdout",
          "text": [
            "Drive already mounted at /content/gdrive; to attempt to forcibly remount, call drive.mount(\"/content/gdrive\", force_remount=True).\n"
          ]
        }
      ],
      "source": [
        "from google.colab import drive\n",
        "drive.mount('/content/gdrive')"
      ]
    },
    {
      "cell_type": "code",
      "execution_count": null,
      "metadata": {
        "id": "hFIjOhbyML_1"
      },
      "outputs": [],
      "source": [
        "TRAIN_PATH= '/content/gdrive/MyDrive/FaceMask/Face Mask Dataset/Train'\n",
        "VAL_PATH= '/content/gdrive/MyDrive/FaceMask/Face Mask Dataset/Validation'\n",
        "TEST_PATH= '/content/gdrive/MyDrive/FaceMask/Face Mask Dataset/Test'"
      ]
    },
    {
      "cell_type": "markdown",
      "metadata": {
        "id": "pyxz5dMsM-0r"
      },
      "source": [
        "Libraries"
      ]
    },
    {
      "cell_type": "code",
      "execution_count": null,
      "metadata": {
        "id": "HehszMiPMrQC"
      },
      "outputs": [],
      "source": [
        "import os\n",
        "import random\n",
        "import shutil\n",
        "import tensorflow as tf\n",
        "from tensorflow.keras.preprocessing.image import ImageDataGenerator\n",
        "from keras.layers import * \n",
        "from keras.models import * \n",
        "from tensorflow.keras.callbacks import TensorBoard, ModelCheckpoint\n",
        "from tensorflow.keras import optimizers\n",
        "from keras.preprocessing import image \n",
        "from sklearn.metrics import precision_score,recall_score,classification_report\n",
        "from sklearn.utils import shuffle\n",
        "import numpy as np\n",
        "import matplotlib.pyplot as plt\n",
        "import matplotlib.image  as mpimg"
      ]
    },
    {
      "cell_type": "markdown",
      "metadata": {
        "id": "rYZa6jadNBPi"
      },
      "source": [
        "Data Augmentation"
      ]
    },
    {
      "cell_type": "code",
      "execution_count": null,
      "metadata": {
        "colab": {
          "base_uri": "https://localhost:8080/"
        },
        "id": "IGqgBIo2NQ4j",
        "outputId": "4cc95c18-476a-41ae-f083-9dec49538ae2"
      },
      "outputs": [
        {
          "output_type": "stream",
          "name": "stdout",
          "text": [
            "Found 10000 images belonging to 2 classes.\n",
            "Found 800 images belonging to 2 classes.\n"
          ]
        }
      ],
      "source": [
        "train_datagen = ImageDataGenerator(rescale=1.0/255,\n",
        "                                   rotation_range=40,\n",
        "                                   width_shift_range=0.2,\n",
        "                                   height_shift_range=0.2,\n",
        "                                   shear_range=0.2,\n",
        "                                   zoom_range=0.2,\n",
        "                                   horizontal_flip=True,\n",
        "                                   fill_mode='nearest')\n",
        "\n",
        "validation_datagen = ImageDataGenerator(rescale=1.0/255)\n",
        "test_dataset =ImageDataGenerator(rescale=1./255)\n",
        "\n",
        "checkpoint = ModelCheckpoint('/content/gdrive/MyDrive/FaceMask/Model VGG16/model-{epoch:03d}.model',monitor='val_loss',verbose=0,save_best_only=True,mode='auto')\n"
      ]
    },
    {
      "cell_type": "markdown",
      "metadata": {
        "id": "WTEpPLlbeiz_"
      },
      "source": [
        "Model Building\n"
      ]
    },
    {
      "cell_type": "code",
      "execution_count": null,
      "metadata": {
        "colab": {
          "base_uri": "https://localhost:8080/"
        },
        "id": "EwjDKPhRqkBY",
        "outputId": "b7bcd909-f83b-4d45-c9ad-c598af93b1fe"
      },
      "outputs": [
        {
          "output_type": "stream",
          "name": "stdout",
          "text": [
            "Downloading data from https://storage.googleapis.com/tensorflow/keras-applications/vgg16/vgg16_weights_tf_dim_ordering_tf_kernels.h5\n",
            "553467904/553467096 [==============================] - 5s 0us/step\n",
            "553476096/553467096 [==============================] - 5s 0us/step\n",
            "Model: \"vgg16\"\n",
            "_________________________________________________________________\n",
            " Layer (type)                Output Shape              Param #   \n",
            "=================================================================\n",
            " input_1 (InputLayer)        [(None, 224, 224, 3)]     0         \n",
            "                                                                 \n",
            " block1_conv1 (Conv2D)       (None, 224, 224, 64)      1792      \n",
            "                                                                 \n",
            " block1_conv2 (Conv2D)       (None, 224, 224, 64)      36928     \n",
            "                                                                 \n",
            " block1_pool (MaxPooling2D)  (None, 112, 112, 64)      0         \n",
            "                                                                 \n",
            " block2_conv1 (Conv2D)       (None, 112, 112, 128)     73856     \n",
            "                                                                 \n",
            " block2_conv2 (Conv2D)       (None, 112, 112, 128)     147584    \n",
            "                                                                 \n",
            " block2_pool (MaxPooling2D)  (None, 56, 56, 128)       0         \n",
            "                                                                 \n",
            " block3_conv1 (Conv2D)       (None, 56, 56, 256)       295168    \n",
            "                                                                 \n",
            " block3_conv2 (Conv2D)       (None, 56, 56, 256)       590080    \n",
            "                                                                 \n",
            " block3_conv3 (Conv2D)       (None, 56, 56, 256)       590080    \n",
            "                                                                 \n",
            " block3_pool (MaxPooling2D)  (None, 28, 28, 256)       0         \n",
            "                                                                 \n",
            " block4_conv1 (Conv2D)       (None, 28, 28, 512)       1180160   \n",
            "                                                                 \n",
            " block4_conv2 (Conv2D)       (None, 28, 28, 512)       2359808   \n",
            "                                                                 \n",
            " block4_conv3 (Conv2D)       (None, 28, 28, 512)       2359808   \n",
            "                                                                 \n",
            " block4_pool (MaxPooling2D)  (None, 14, 14, 512)       0         \n",
            "                                                                 \n",
            " block5_conv1 (Conv2D)       (None, 14, 14, 512)       2359808   \n",
            "                                                                 \n",
            " block5_conv2 (Conv2D)       (None, 14, 14, 512)       2359808   \n",
            "                                                                 \n",
            " block5_conv3 (Conv2D)       (None, 14, 14, 512)       2359808   \n",
            "                                                                 \n",
            " block5_pool (MaxPooling2D)  (None, 7, 7, 512)         0         \n",
            "                                                                 \n",
            " flatten (Flatten)           (None, 25088)             0         \n",
            "                                                                 \n",
            " fc1 (Dense)                 (None, 4096)              102764544 \n",
            "                                                                 \n",
            " fc2 (Dense)                 (None, 4096)              16781312  \n",
            "                                                                 \n",
            " predictions (Dense)         (None, 1000)              4097000   \n",
            "                                                                 \n",
            "=================================================================\n",
            "Total params: 138,357,544\n",
            "Trainable params: 138,357,544\n",
            "Non-trainable params: 0\n",
            "_________________________________________________________________\n"
          ]
        }
      ],
      "source": [
        "vgg16_model=tf.keras.applications.vgg16.VGG16()\n",
        "vgg16_model.summary() "
      ]
    },
    {
      "cell_type": "code",
      "execution_count": null,
      "metadata": {
        "colab": {
          "base_uri": "https://localhost:8080/"
        },
        "id": "gc10WZale5j7",
        "outputId": "70ca8428-2432-4404-b7e2-cbbc32149155"
      },
      "outputs": [
        {
          "output_type": "stream",
          "name": "stdout",
          "text": [
            "Model: \"sequential\"\n",
            "_________________________________________________________________\n",
            " Layer (type)                Output Shape              Param #   \n",
            "=================================================================\n",
            " block1_conv1 (Conv2D)       (None, 224, 224, 64)      1792      \n",
            "                                                                 \n",
            " block1_conv2 (Conv2D)       (None, 224, 224, 64)      36928     \n",
            "                                                                 \n",
            " block1_pool (MaxPooling2D)  (None, 112, 112, 64)      0         \n",
            "                                                                 \n",
            " block2_conv1 (Conv2D)       (None, 112, 112, 128)     73856     \n",
            "                                                                 \n",
            " block2_conv2 (Conv2D)       (None, 112, 112, 128)     147584    \n",
            "                                                                 \n",
            " block2_pool (MaxPooling2D)  (None, 56, 56, 128)       0         \n",
            "                                                                 \n",
            " block3_conv1 (Conv2D)       (None, 56, 56, 256)       295168    \n",
            "                                                                 \n",
            " block3_conv2 (Conv2D)       (None, 56, 56, 256)       590080    \n",
            "                                                                 \n",
            " block3_conv3 (Conv2D)       (None, 56, 56, 256)       590080    \n",
            "                                                                 \n",
            " block3_pool (MaxPooling2D)  (None, 28, 28, 256)       0         \n",
            "                                                                 \n",
            " block4_conv1 (Conv2D)       (None, 28, 28, 512)       1180160   \n",
            "                                                                 \n",
            " block4_conv2 (Conv2D)       (None, 28, 28, 512)       2359808   \n",
            "                                                                 \n",
            " block4_conv3 (Conv2D)       (None, 28, 28, 512)       2359808   \n",
            "                                                                 \n",
            " block4_pool (MaxPooling2D)  (None, 14, 14, 512)       0         \n",
            "                                                                 \n",
            " block5_conv1 (Conv2D)       (None, 14, 14, 512)       2359808   \n",
            "                                                                 \n",
            " block5_conv2 (Conv2D)       (None, 14, 14, 512)       2359808   \n",
            "                                                                 \n",
            " block5_conv3 (Conv2D)       (None, 14, 14, 512)       2359808   \n",
            "                                                                 \n",
            " block5_pool (MaxPooling2D)  (None, 7, 7, 512)         0         \n",
            "                                                                 \n",
            " flatten (Flatten)           (None, 25088)             0         \n",
            "                                                                 \n",
            " fc1 (Dense)                 (None, 4096)              102764544 \n",
            "                                                                 \n",
            " fc2 (Dense)                 (None, 4096)              16781312  \n",
            "                                                                 \n",
            "=================================================================\n",
            "Total params: 134,260,544\n",
            "Trainable params: 134,260,544\n",
            "Non-trainable params: 0\n",
            "_________________________________________________________________\n"
          ]
        }
      ],
      "source": [
        "INIT_LR = 1e-2\n",
        "BS = 16\n",
        "improved_model =tf.keras.models.Sequential()\n",
        "for layer in vgg16_model.layers[:-1]:\n",
        "    improved_model.add(layer)\n",
        "improved_model.summary()"
      ]
    },
    {
      "cell_type": "code",
      "execution_count": null,
      "metadata": {
        "colab": {
          "base_uri": "https://localhost:8080/"
        },
        "id": "6XrQVzTPpx91",
        "outputId": "07f8edeb-9cfd-444d-899a-0267e7a4a511"
      },
      "outputs": [
        {
          "output_type": "stream",
          "name": "stdout",
          "text": [
            "Model: \"sequential\"\n",
            "_________________________________________________________________\n",
            " Layer (type)                Output Shape              Param #   \n",
            "=================================================================\n",
            " block1_conv1 (Conv2D)       (None, 224, 224, 64)      1792      \n",
            "                                                                 \n",
            " block1_conv2 (Conv2D)       (None, 224, 224, 64)      36928     \n",
            "                                                                 \n",
            " block1_pool (MaxPooling2D)  (None, 112, 112, 64)      0         \n",
            "                                                                 \n",
            " block2_conv1 (Conv2D)       (None, 112, 112, 128)     73856     \n",
            "                                                                 \n",
            " block2_conv2 (Conv2D)       (None, 112, 112, 128)     147584    \n",
            "                                                                 \n",
            " block2_pool (MaxPooling2D)  (None, 56, 56, 128)       0         \n",
            "                                                                 \n",
            " block3_conv1 (Conv2D)       (None, 56, 56, 256)       295168    \n",
            "                                                                 \n",
            " block3_conv2 (Conv2D)       (None, 56, 56, 256)       590080    \n",
            "                                                                 \n",
            " block3_conv3 (Conv2D)       (None, 56, 56, 256)       590080    \n",
            "                                                                 \n",
            " block3_pool (MaxPooling2D)  (None, 28, 28, 256)       0         \n",
            "                                                                 \n",
            " block4_conv1 (Conv2D)       (None, 28, 28, 512)       1180160   \n",
            "                                                                 \n",
            " block4_conv2 (Conv2D)       (None, 28, 28, 512)       2359808   \n",
            "                                                                 \n",
            " block4_conv3 (Conv2D)       (None, 28, 28, 512)       2359808   \n",
            "                                                                 \n",
            " block4_pool (MaxPooling2D)  (None, 14, 14, 512)       0         \n",
            "                                                                 \n",
            " block5_conv1 (Conv2D)       (None, 14, 14, 512)       2359808   \n",
            "                                                                 \n",
            " block5_conv2 (Conv2D)       (None, 14, 14, 512)       2359808   \n",
            "                                                                 \n",
            " block5_conv3 (Conv2D)       (None, 14, 14, 512)       2359808   \n",
            "                                                                 \n",
            " block5_pool (MaxPooling2D)  (None, 7, 7, 512)         0         \n",
            "                                                                 \n",
            " flatten (Flatten)           (None, 25088)             0         \n",
            "                                                                 \n",
            " fc1 (Dense)                 (None, 4096)              102764544 \n",
            "                                                                 \n",
            " fc2 (Dense)                 (None, 4096)              16781312  \n",
            "                                                                 \n",
            " dense (Dense)               (None, 2)                 8194      \n",
            "                                                                 \n",
            "=================================================================\n",
            "Total params: 134,268,738\n",
            "Trainable params: 8,194\n",
            "Non-trainable params: 134,260,544\n",
            "_________________________________________________________________\n"
          ]
        }
      ],
      "source": [
        "for layer in improved_model.layers:\n",
        "    layer.trainable=False\n",
        "improved_model.add(tf.keras.layers.Dense(2,activation='softmax'))\n",
        "opt = optimizers.Adam(learning_rate=INIT_LR)\n",
        "improved_model.compile(optimizer=opt, loss='sparse_categorical_crossentropy', metrics=['acc'])\n",
        "improved_model.summary()"
      ]
    },
    {
      "cell_type": "markdown",
      "metadata": {
        "id": "NyvQSC46guS2"
      },
      "source": [
        "Model Training"
      ]
    },
    {
      "cell_type": "code",
      "execution_count": null,
      "metadata": {
        "colab": {
          "base_uri": "https://localhost:8080/"
        },
        "id": "zkUaLaLdgtwQ",
        "outputId": "3b068fc4-39bd-4fcf-bc0c-f958c5c897b4"
      },
      "outputs": [
        {
          "output_type": "stream",
          "name": "stdout",
          "text": [
            "Found 10000 images belonging to 2 classes.\n",
            "Found 800 images belonging to 2 classes.\n"
          ]
        },
        {
          "output_type": "stream",
          "name": "stderr",
          "text": [
            "/usr/local/lib/python3.7/dist-packages/ipykernel_launcher.py:17: UserWarning: `Model.fit_generator` is deprecated and will be removed in a future version. Please use `Model.fit`, which supports generators.\n"
          ]
        },
        {
          "output_type": "stream",
          "name": "stdout",
          "text": [
            "Epoch 1/50\n",
            "10/10 [==============================] - ETA: 0s - loss: 7.2509 - acc: 0.4688 INFO:tensorflow:Assets written to: /content/gdrive/MyDrive/FaceMask/Model VGG16/model-001.model/assets\n",
            "10/10 [==============================] - 169s 17s/step - loss: 7.2509 - acc: 0.4688 - val_loss: 0.3186 - val_acc: 0.8750\n",
            "Epoch 2/50\n",
            "10/10 [==============================] - 97s 10s/step - loss: 0.9741 - acc: 0.7188 - val_loss: 1.1907 - val_acc: 0.5938\n",
            "Epoch 3/50\n",
            "10/10 [==============================] - ETA: 0s - loss: 0.5756 - acc: 0.7750INFO:tensorflow:Assets written to: /content/gdrive/MyDrive/FaceMask/Model VGG16/model-003.model/assets\n",
            "10/10 [==============================] - 102s 10s/step - loss: 0.5756 - acc: 0.7750 - val_loss: 0.1558 - val_acc: 0.9375\n",
            "Epoch 4/50\n",
            "10/10 [==============================] - ETA: 0s - loss: 0.5430 - acc: 0.8313INFO:tensorflow:Assets written to: /content/gdrive/MyDrive/FaceMask/Model VGG16/model-004.model/assets\n",
            "10/10 [==============================] - 103s 10s/step - loss: 0.5430 - acc: 0.8313 - val_loss: 0.1390 - val_acc: 0.9062\n",
            "Epoch 5/50\n",
            "10/10 [==============================] - 97s 10s/step - loss: 0.3877 - acc: 0.8313 - val_loss: 0.6325 - val_acc: 0.8438\n",
            "Epoch 6/50\n",
            "10/10 [==============================] - 96s 9s/step - loss: 0.7984 - acc: 0.8250 - val_loss: 0.8000 - val_acc: 0.7188\n",
            "Epoch 7/50\n",
            "10/10 [==============================] - 94s 9s/step - loss: 0.6971 - acc: 0.8250 - val_loss: 0.4891 - val_acc: 0.8438\n",
            "Epoch 8/50\n",
            "10/10 [==============================] - 94s 9s/step - loss: 0.6550 - acc: 0.8125 - val_loss: 0.2193 - val_acc: 0.9062\n",
            "Epoch 9/50\n",
            "10/10 [==============================] - 94s 9s/step - loss: 0.4751 - acc: 0.8188 - val_loss: 1.1639 - val_acc: 0.7188\n",
            "Epoch 10/50\n",
            "10/10 [==============================] - 93s 9s/step - loss: 0.6231 - acc: 0.8062 - val_loss: 0.4628 - val_acc: 0.8438\n",
            "Epoch 11/50\n",
            "10/10 [==============================] - 94s 9s/step - loss: 0.5194 - acc: 0.8687 - val_loss: 0.2246 - val_acc: 0.8438\n",
            "Epoch 12/50\n",
            "10/10 [==============================] - ETA: 0s - loss: 0.2897 - acc: 0.9062INFO:tensorflow:Assets written to: /content/gdrive/MyDrive/FaceMask/Model VGG16/model-012.model/assets\n",
            "10/10 [==============================] - 98s 10s/step - loss: 0.2897 - acc: 0.9062 - val_loss: 0.0349 - val_acc: 1.0000\n",
            "Epoch 13/50\n",
            "10/10 [==============================] - 94s 9s/step - loss: 0.4817 - acc: 0.8375 - val_loss: 0.3928 - val_acc: 0.8750\n",
            "Epoch 14/50\n",
            "10/10 [==============================] - 94s 9s/step - loss: 0.6449 - acc: 0.8313 - val_loss: 0.6084 - val_acc: 0.8438\n",
            "Epoch 15/50\n",
            "10/10 [==============================] - 93s 9s/step - loss: 0.3395 - acc: 0.9062 - val_loss: 0.0524 - val_acc: 0.9688\n",
            "Epoch 16/50\n",
            "10/10 [==============================] - 92s 9s/step - loss: 0.3023 - acc: 0.9125 - val_loss: 0.4300 - val_acc: 0.9375\n",
            "Epoch 17/50\n",
            "10/10 [==============================] - 92s 9s/step - loss: 0.3562 - acc: 0.9187 - val_loss: 0.1704 - val_acc: 0.9375\n",
            "Epoch 18/50\n",
            "10/10 [==============================] - 91s 9s/step - loss: 0.2711 - acc: 0.9125 - val_loss: 0.2324 - val_acc: 0.9375\n",
            "Epoch 19/50\n",
            "10/10 [==============================] - ETA: 0s - loss: 0.2682 - acc: 0.9062INFO:tensorflow:Assets written to: /content/gdrive/MyDrive/FaceMask/Model VGG16/model-019.model/assets\n",
            "10/10 [==============================] - 96s 10s/step - loss: 0.2682 - acc: 0.9062 - val_loss: 0.0342 - val_acc: 1.0000\n",
            "Epoch 20/50\n",
            "10/10 [==============================] - 92s 9s/step - loss: 0.3054 - acc: 0.9000 - val_loss: 0.4323 - val_acc: 0.9062\n",
            "Epoch 21/50\n",
            "10/10 [==============================] - 92s 9s/step - loss: 0.3006 - acc: 0.9062 - val_loss: 0.2727 - val_acc: 0.9375\n",
            "Epoch 22/50\n",
            "10/10 [==============================] - 91s 9s/step - loss: 0.3751 - acc: 0.8938 - val_loss: 0.0988 - val_acc: 0.9688\n",
            "Epoch 23/50\n",
            "10/10 [==============================] - 91s 9s/step - loss: 0.4609 - acc: 0.8500 - val_loss: 0.0821 - val_acc: 0.9688\n",
            "Epoch 24/50\n",
            "10/10 [==============================] - 92s 9s/step - loss: 0.3423 - acc: 0.9000 - val_loss: 0.0974 - val_acc: 0.9375\n",
            "Epoch 25/50\n",
            "10/10 [==============================] - 92s 9s/step - loss: 0.2840 - acc: 0.9000 - val_loss: 0.2974 - val_acc: 0.9375\n",
            "Epoch 26/50\n",
            "10/10 [==============================] - 91s 9s/step - loss: 0.2356 - acc: 0.8938 - val_loss: 0.1396 - val_acc: 0.9375\n",
            "Epoch 27/50\n",
            "10/10 [==============================] - 92s 9s/step - loss: 0.5000 - acc: 0.8438 - val_loss: 0.1162 - val_acc: 0.9062\n",
            "Epoch 28/50\n",
            "10/10 [==============================] - 90s 9s/step - loss: 1.5532 - acc: 0.6500 - val_loss: 0.6328 - val_acc: 0.9062\n",
            "Epoch 29/50\n",
            "10/10 [==============================] - 91s 9s/step - loss: 0.8564 - acc: 0.8188 - val_loss: 0.2726 - val_acc: 0.9375\n",
            "Epoch 30/50\n",
            "10/10 [==============================] - 90s 9s/step - loss: 0.6057 - acc: 0.8438 - val_loss: 0.0525 - val_acc: 0.9688\n",
            "Epoch 31/50\n",
            "10/10 [==============================] - 91s 9s/step - loss: 0.5250 - acc: 0.8813 - val_loss: 0.1032 - val_acc: 0.9688\n",
            "Epoch 32/50\n",
            "10/10 [==============================] - 91s 9s/step - loss: 0.3471 - acc: 0.9000 - val_loss: 0.1241 - val_acc: 0.9375\n",
            "Epoch 33/50\n",
            "10/10 [==============================] - 89s 9s/step - loss: 0.1725 - acc: 0.9563 - val_loss: 0.2400 - val_acc: 0.9375\n",
            "Epoch 34/50\n",
            "10/10 [==============================] - 91s 9s/step - loss: 0.2024 - acc: 0.9438 - val_loss: 0.9416 - val_acc: 0.8125\n",
            "Epoch 35/50\n",
            "10/10 [==============================] - 90s 9s/step - loss: 0.2655 - acc: 0.9187 - val_loss: 0.2882 - val_acc: 0.9062\n",
            "Epoch 36/50\n",
            "10/10 [==============================] - 90s 9s/step - loss: 0.2445 - acc: 0.9187 - val_loss: 0.2332 - val_acc: 0.9375\n",
            "Epoch 37/50\n",
            "10/10 [==============================] - 89s 9s/step - loss: 0.2931 - acc: 0.9125 - val_loss: 0.0785 - val_acc: 0.9688\n",
            "Epoch 38/50\n",
            "10/10 [==============================] - 90s 9s/step - loss: 0.3312 - acc: 0.8750 - val_loss: 0.9673 - val_acc: 0.8750\n",
            "Epoch 39/50\n",
            "10/10 [==============================] - 90s 9s/step - loss: 0.2540 - acc: 0.9062 - val_loss: 0.3994 - val_acc: 0.8750\n",
            "Epoch 40/50\n",
            "10/10 [==============================] - 91s 9s/step - loss: 0.2351 - acc: 0.9563 - val_loss: 0.2624 - val_acc: 0.9688\n",
            "Epoch 41/50\n",
            "10/10 [==============================] - 89s 9s/step - loss: 0.4664 - acc: 0.9187 - val_loss: 0.4543 - val_acc: 0.9062\n",
            "Epoch 42/50\n",
            "10/10 [==============================] - 90s 9s/step - loss: 0.8319 - acc: 0.8062 - val_loss: 3.5449 - val_acc: 0.5938\n",
            "Epoch 43/50\n",
            "10/10 [==============================] - 90s 9s/step - loss: 2.2915 - acc: 0.7563 - val_loss: 1.0906 - val_acc: 0.7812\n",
            "Epoch 44/50\n",
            "10/10 [==============================] - 89s 9s/step - loss: 0.5469 - acc: 0.9000 - val_loss: 0.7721 - val_acc: 0.9062\n",
            "Epoch 45/50\n",
            "10/10 [==============================] - 92s 9s/step - loss: 0.2074 - acc: 0.9375 - val_loss: 0.3376 - val_acc: 0.9375\n",
            "Epoch 46/50\n",
            "10/10 [==============================] - 89s 9s/step - loss: 0.2727 - acc: 0.9062 - val_loss: 0.2751 - val_acc: 0.9688\n",
            "Epoch 47/50\n",
            "10/10 [==============================] - 90s 9s/step - loss: 0.2556 - acc: 0.9438 - val_loss: 0.2100 - val_acc: 0.9375\n",
            "Epoch 48/50\n",
            "10/10 [==============================] - 90s 9s/step - loss: 0.2696 - acc: 0.9250 - val_loss: 0.3722 - val_acc: 0.9375\n",
            "Epoch 49/50\n",
            "10/10 [==============================] - 90s 9s/step - loss: 0.4069 - acc: 0.8875 - val_loss: 0.0901 - val_acc: 0.9688\n",
            "Epoch 50/50\n",
            "10/10 [==============================] - 90s 9s/step - loss: 0.4979 - acc: 0.9125 - val_loss: 0.0705 - val_acc: 0.9688\n"
          ]
        }
      ],
      "source": [
        "train_generator = train_datagen.flow_from_directory(\n",
        "    TRAIN_PATH,\n",
        "    target_size = (224,224),\n",
        "    batch_size = BS,\n",
        "    class_mode = 'binary')\n",
        "validation_generator = test_dataset.flow_from_directory(\n",
        "    VAL_PATH,\n",
        "    target_size = (224,224),\n",
        "    batch_size = BS,\n",
        "    class_mode = 'binary')\n",
        "hist = improved_model.fit_generator(\n",
        "    train_generator,\n",
        "    steps_per_epoch=10,\n",
        "    epochs =50,\n",
        "    validation_data = validation_generator,\n",
        "    validation_steps=2\n",
        "    ,callbacks=[checkpoint]\n",
        "    )"
      ]
    },
    {
      "cell_type": "markdown",
      "metadata": {
        "id": "FBoy4NxthyyC"
      },
      "source": [
        "Save Model"
      ]
    },
    {
      "cell_type": "code",
      "execution_count": null,
      "metadata": {
        "id": "ImfHQiUTh0jL"
      },
      "outputs": [],
      "source": [
        "improved_model.save(\"/content/gdrive/MyDrive/FaceMask/FM_VGG16_Softmax.h5\")\n"
      ]
    },
    {
      "cell_type": "markdown",
      "metadata": {
        "id": "lzSP5JiGiPi-"
      },
      "source": [
        "Plotting Training Accuracy\n",
        "\n",
        "\n",
        "\n"
      ]
    },
    {
      "cell_type": "code",
      "execution_count": null,
      "metadata": {
        "id": "4WKNWZJXiPb0",
        "colab": {
          "base_uri": "https://localhost:8080/",
          "height": 295
        },
        "outputId": "582dd6b7-f519-48c1-f4f8-0642a35bfcf4"
      },
      "outputs": [
        {
          "output_type": "display_data",
          "data": {
            "image/png": "[encoded data removed]",
            "text/plain": [
              "<Figure size 432x288 with 1 Axes>"
            ]
          },
          "metadata": {
            "needs_background": "light"
          }
        }
      ],
      "source": [
        "plt.plot(hist.history['acc'])\n",
        "plt.title('Model accuracy')\n",
        "plt.ylabel('accuracy')\n",
        "plt.xlabel('epoch')\n",
        "plt.legend(['train'],loc='upper left')\n",
        "plt.show()"
      ]
    },
    {
      "cell_type": "markdown",
      "metadata": {
        "id": "2TBzpwAhiZyc"
      },
      "source": [
        "Plotting Validation Accuracy\n"
      ]
    },
    {
      "cell_type": "code",
      "execution_count": null,
      "metadata": {
        "id": "CwCYp2gOihbx",
        "colab": {
          "base_uri": "https://localhost:8080/",
          "height": 295
        },
        "outputId": "dfce81a0-2b99-4a7a-d80f-d6ba2e39d417"
      },
      "outputs": [
        {
          "output_type": "display_data",
          "data": {
            "image/png": "[encoded data removed]",
            "text/plain": [
              "<Figure size 432x288 with 1 Axes>"
            ]
          },
          "metadata": {
            "needs_background": "light"
          }
        }
      ],
      "source": [
        "plt.plot(hist.history['val_acc'])\n",
        "plt.title('Model accuracy')\n",
        "plt.ylabel('accuracy')\n",
        "plt.xlabel('epoch')\n",
        "plt.legend(['validation'],loc='upper left')\n",
        "plt.show()"
      ]
    },
    {
      "cell_type": "markdown",
      "metadata": {
        "id": "vGypguJdikov"
      },
      "source": [
        "Getting Results"
      ]
    },
    {
      "cell_type": "code",
      "execution_count": null,
      "metadata": {
        "id": "zpTuwVyZixDr",
        "colab": {
          "base_uri": "https://localhost:8080/"
        },
        "outputId": "1444bc89-5edd-4cd4-b886-cf6fe5942923"
      },
      "outputs": [
        {
          "output_type": "execute_result",
          "data": {
            "text/plain": [
              "{'WithMask': 0, 'WithoutMask': 1}"
            ]
          },
          "metadata": {},
          "execution_count": 16
        }
      ],
      "source": [
        "train_generator.class_indices"
      ]
    },
    {
      "cell_type": "code",
      "execution_count": null,
      "metadata": {
        "colab": {
          "base_uri": "https://localhost:8080/",
          "height": 425
        },
        "id": "WenbM7YtizjI",
        "outputId": "72a463b3-e0de-41a3-e6b7-a6321fdba2e9"
      },
      "outputs": [
        {
          "output_type": "stream",
          "name": "stdout",
          "text": [
            "              precision    recall  f1-score   support\n",
            "\n",
            "           0       0.88      0.98      0.93       509\n",
            "           1       0.98      0.86      0.92       483\n",
            "\n",
            "    accuracy                           0.93       992\n",
            "   macro avg       0.93      0.92      0.92       992\n",
            "weighted avg       0.93      0.93      0.93       992\n",
            "\n"
          ]
        },
        {
          "output_type": "display_data",
          "data": {
            "image/png": "[encoded data removed]",
            "text/plain": [
              "<Figure size 432x288 with 2 Axes>"
            ]
          },
          "metadata": {
            "needs_background": "light"
          }
        }
      ],
      "source": [
        "import os \n",
        "y_actual=[]\n",
        "y_test=[]\n",
        "for i in os.listdir(\"/content/gdrive/MyDrive/FaceMask/Face Mask Dataset/Test/WithMask\"):\n",
        "  img=image.load_img(\"/content/gdrive/MyDrive/FaceMask/Face Mask Dataset/Test/WithMask/\"+i,target_size=(224,224))\n",
        "  img=image.img_to_array(img)\n",
        "  img=np.expand_dims(img,axis=0)\n",
        "  p=(improved_model.predict(img)>0.5).astype(\"int32\")\n",
        "  y_test.append(p[0,0])\n",
        "  y_actual.append(1)\n",
        "\n",
        "for i in os.listdir(\"/content/gdrive/MyDrive/FaceMask/Face Mask Dataset/Test/WithoutMask\"):\n",
        "  img=image.load_img(\"/content/gdrive/MyDrive/FaceMask/Face Mask Dataset/Test/WithoutMask/\"+i,target_size=(224,224))\n",
        "  img=image.img_to_array(img)\n",
        "  img=np.expand_dims(img,axis=0)\n",
        "  p=(improved_model.predict(img)>0.5).astype(\"int32\")\n",
        "  y_test.append(p[0,0])\n",
        "  y_actual.append(0)\n",
        "\n",
        "y_actual=np.array(y_actual)\n",
        "y_test=np.array(y_test)\n",
        "\n",
        "from sklearn.metrics import confusion_matrix,roc_curve, roc_auc_score\n",
        "import seaborn as sns\n",
        "\n",
        "#plotting confusion metrics\n",
        "cm=confusion_matrix(y_actual,y_test)\n",
        "from sklearn.metrics import classification_report\n",
        "sns.heatmap(cm,cmap=\"plasma\",annot=True)\n",
        "\n",
        "#getting numerical metrics \n",
        "print(classification_report(y_actual,y_test))"
      ]
    },
    {
      "cell_type": "markdown",
      "metadata": {
        "id": "3qLzV_aol7WZ"
      },
      "source": [
        "ROC Curve"
      ]
    },
    {
      "cell_type": "code",
      "execution_count": null,
      "metadata": {
        "id": "2tvDB62Mlxxo",
        "colab": {
          "base_uri": "https://localhost:8080/",
          "height": 295
        },
        "outputId": "7958956d-fa45-4387-fee6-01349bb6d7e6"
      },
      "outputs": [
        {
          "output_type": "display_data",
          "data": {
            "image/png": "[encoded data removed]",
            "text/plain": [
              "<Figure size 432x288 with 1 Axes>"
            ]
          },
          "metadata": {
            "needs_background": "light"
          }
        }
      ],
      "source": [
        "#plotting ROC curve \n",
        "r_auc_new_dataset=roc_auc_score(y_test,y_actual)\n",
        "r_fpr_new_dataset,r_tpr_new_dataset,_=roc_curve(y_test,y_actual)\n",
        "plt.plot(r_fpr_new_dataset,r_tpr_new_dataset,linestyle='--',label='new data set (AUROC=%0.3f)' %r_auc_new_dataset)\n",
        "plt.title('ROC Plot')\n",
        "plt.xlabel('False Positive Rate')\n",
        "plt.ylabel('True Positive Rate')\n",
        "plt.legend()\n",
        "plt.show()"
      ]
    },
    {
      "cell_type": "code",
      "execution_count": null,
      "metadata": {
        "id": "rhQy-DyXp7Y_"
      },
      "outputs": [],
      "source": [
        "#infite loop to avoid collab runtime from shuttingdown after training\n",
        "while True:pass"
      ]
    }
  ],
  "metadata": {
    "colab": {
      "collapsed_sections": [],
      "name": "Final_Face_Mask_VGG16 .ipynb",
      "provenance": []
    },
    "kernelspec": {
      "display_name": "Python 3",
      "name": "python3"
    },
    "language_info": {
      "name": "python"
    }
  },
  "nbformat": 4,
  "nbformat_minor": 0
}